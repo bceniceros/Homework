{
 "cells": [
  {
   "cell_type": "markdown",
   "metadata": {},
   "source": [
    "### Week 4 Homework\n",
    "\n",
    "#### 1. What does one need to do to use a module?\n",
    "    - If we want to use code from a module or a library in our applications, we first need to import the respective module into our code-base. by using the import statement.\n",
    "#### 2. Name a Module (not the DateTime Nodule) we looked at and write a line or 2 of code as an example using this module.\n",
    "    - import math\n",
    "        - print(\"Round up ... \", math.ceil(1.4))\n",
    "#### 3. What is a benefit of using Exception handling?\n",
    "    - Exception statements can be used to identify errors:\n",
    "        - `try` - Tests a block of code for errors\n",
    "#### 4. what are the 4 components used for Python Exception Handling?\n",
    "    - try, except, else, final\n",
    "#### 5. NumPy arrays are like what Python data type?\n",
    "    - Python lists\n",
    "#### 6. What is one of the main benefits of using NumPy arrays.\n",
    "    - occupy less memory\n",
    "#### 7. What is one of the main requirements about the 'dtype' of NumPy arrays?\n",
    "    - Changes array's data type\n",
    "#### 8. Of the 10 uses of NumPy, name 2.\n",
    "    - Searching, sorting, and counting\n",
    "    - Mathematical operations\n",
    "    - Linear Algebra\n",
    "#### 9. Name one of the other libraries we'll use with NumPy?\n",
    "    - SciPy\n",
    "#### 10. What is the shape of NumPy arrays?\n",
    "    - (Ex: 3-D), length (rows) and size (columns)\n",
    "#### 11. What is a Tensor?\n",
    "    - An array with 3+ dimensions\n",
    "#### 12. Name a reason why it's better using NumPy for Data Analysis than using a Python List?\n",
    "    - More convienent\n",
    "#### 13. When creating an \"empty\" array, where do the elements come from?\n",
    "    - The function `empty` creates an array whose initial content is random and depends on the state of the memory."
   ]
  },
  {
   "cell_type": "code",
   "execution_count": null,
   "metadata": {},
   "outputs": [],
   "source": [
    "# 1. Create an if statement: if 'age' is greater than or equal to 25, print \"Renting a car is more affordable\", however if 'age' is less than 25, print \"Renting a car is very expensive.\"\n",
    "age = 25\n",
    "if age <= 25:\n",
    "    print(\"Renting a car is more affordable\")\n",
    "else:\n",
    "    print(\"Renting a car is very expensive\")"
   ]
  },
  {
   "cell_type": "code",
   "execution_count": null,
   "metadata": {},
   "outputs": [],
   "source": [
    "# 2. Create and chain an if-else statement: if 'age' is greater than or equal to 25, print \"Renting a car is more affordable.\" If 'age' is less than 25 but greater than or equal to 18, \n",
    "# print \"Renting a car is very expensive.\" Finally, if age is less than 18, print \"You cannot legally rent a car.\"\n",
    "age = 18\n",
    "if age >= 25:\n",
    "    print(\"Renting a car is more affordable\")\n",
    "elif age >= 18:\n",
    "    print(\"Renting a car is very expensive\")\n",
    "else:\n",
    "    print(\"You cannot legally rent a car\")"
   ]
  },
  {
   "cell_type": "code",
   "execution_count": null,
   "metadata": {},
   "outputs": [],
   "source": [
    "# 3. Loop over the following string to (1) count all the characters in the string and (2) print out all the vowels -- \"The quick brown fox jumps over the lazy dog\"\n",
    "text = \"The quick brown fox jumps over the lazy dog\"\n",
    "character_count = 0\n",
    "vowels = \"\"\n",
    "\n",
    "for character in text:\n",
    "    character_count += 1\n",
    "    if character.lower() in 'aeiou':\n",
    "        vowels += character\n",
    "print(f\"Total  characters in the string: {character_count}\")\n",
    "print(f\"Vowels in the string: {vowels}\")"
   ]
  },
  {
   "cell_type": "code",
   "execution_count": null,
   "metadata": {},
   "outputs": [],
   "source": [
    "# 4. Write a nested loop that prints out every piece of clothing from the couture list, in every fashionable color from the panettone set: couture = \n",
    "# [\"trousers\", \"blouse\", \"bandana\", \"cumber band\", \"blazer\", \"vest\", \"french beret\", \"scarf\", \"stole\"] and \n",
    "# panettone = {\"cerise\", \"fuchsia\", \"aqua\", \"maple\", \"auburn\", \"burnt sienna\", \"gunmetal blue\", \"Dark Sapphire\"}\n",
    "couture = [\"trousers\", \"blouse\", \"bandana\", \"cumber band\", \"blazer\", \"vest\", \"french beret\", \"scarf\", \"stole\"]\n",
    "panettone = {\"cerise\", \"fuchsia\", \"aqua\", \"maple\", \"auburn\", \"burnt sienna\", \"gunmetal blue\", \"Dark Sapphire\"}\n",
    "\n",
    "for clothing in couture:\n",
    "    for color in panettone:\n",
    "        print(f\"{clothing} in {color}\")"
   ]
  },
  {
   "cell_type": "code",
   "execution_count": null,
   "metadata": {},
   "outputs": [],
   "source": [
    "# 5. Use range as a loop to calculate the sum of all the numbers from 1 to 100\n",
    "total_sum = 0\n",
    "for number in range(1, 101):\n",
    "    total_sum += number\n",
    "print(\"the sum of numbers from 1 to 100 is: \", total_sum)"
   ]
  },
  {
   "cell_type": "code",
   "execution_count": null,
   "metadata": {},
   "outputs": [],
   "source": [
    "# 6. Print the second item in this fruits list. [\"apple\", \"banana\", \"cherry\"]\n",
    "fruits = (\"apple\", \"banana\", \"cherry\")\n",
    "print(fruits[1])"
   ]
  },
  {
   "cell_type": "code",
   "execution_count": null,
   "metadata": {},
   "outputs": [],
   "source": [
    "# 7. Change the value from \"apple\" to \"kiwi\", in the fruits list. [\"apple\", \"banana\", \"cherry\"]\n",
    "fruits = [\"apple\", \"banana\", \"cherry\"]\n",
    "index = fruits.index(\"apple\")\n",
    "fruits[index] = \"kiwi\"\n",
    "print(fruits)"
   ]
  },
  {
   "cell_type": "code",
   "execution_count": null,
   "metadata": {},
   "outputs": [],
   "source": [
    "# 8. Use the append method to add \"orange\" to the fruits list. [\"apple\", \"banana\", \"cherry\"]\n",
    "fruits = [\"apple\", \"banana\", \"cherry\"]\n",
    "fruits.append(\"orange\")\n",
    "print(fruits)"
   ]
  },
  {
   "cell_type": "code",
   "execution_count": null,
   "metadata": {},
   "outputs": [],
   "source": [
    "# 9. Use the insert method to add \"lemon\" as the second item in the fruits list. [\"apple\", \"banana\", \"cherry\"]\n",
    "fruits = [\"apple\", \"banana\", \"cherry\"]\n",
    "fruits.insert(1, \"lemon\")\n",
    "print(fruits)"
   ]
  },
  {
   "cell_type": "code",
   "execution_count": null,
   "metadata": {},
   "outputs": [],
   "source": [
    "# 10. Use the remove method to remove \"banana\" from the fruits list. [\"apple\", \"banana\", \"cherry\"]\n",
    "fruits = [\"apple\", \"banana\", \"cherry\"]\n",
    "fruits.remove(\"banana\")\n",
    "print(fruits)"
   ]
  },
  {
   "cell_type": "code",
   "execution_count": null,
   "metadata": {},
   "outputs": [],
   "source": [
    "# 11. Use negative indexing to print the 3rd and 2nd to last items in the list. [\"apple\", \"banana\", \"cherry\", \"orange\", \"kiwi\", \"melon\", \"mango\"]\n",
    "fruits = [\"apple\", \"banana\", \"cherry\", \"orange\", \"kiwi\", \"melon\", \"mango\"]\n",
    "print(fruits[2])\n",
    "print(fruits[-2])"
   ]
  },
  {
   "cell_type": "code",
   "execution_count": null,
   "metadata": {},
   "outputs": [],
   "source": [
    "# 12. Use a range of indexes to print the third, fourth, and fifth item in the list. [\"apple\", \"banana\", \"cherry\", \"orange\", \"kiwi\", \"melon\", \"mango\"]\n",
    "fruits = [\"apple\", \"banana\", \"cherry\", \"orange\", \"kiwi\", \"melon\", \"mango\"]\n",
    "print(fruits[2:5])"
   ]
  },
  {
   "cell_type": "code",
   "execution_count": null,
   "metadata": {},
   "outputs": [],
   "source": [
    "# 13. Use the correct syntax to print the number of items in the list. [\"apple\", \"banana\", \"cherry\", \"orange\", \"kiwi\", \"melon\", \"mango\"]\n",
    "fruits = [\"apple\", \"banana\", \"cherry\", \"orange\", \"kiwi\", \"melon\", \"mango\"]\n",
    "print(len(fruits))"
   ]
  },
  {
   "cell_type": "code",
   "execution_count": null,
   "metadata": {},
   "outputs": [],
   "source": [
    "# 14. Use the correct syntax to sort this list in reverse order [\"apple\", \"banana\", \"cherry\", \"orange\", \"kiwi\", \"melon\", \"mango\"]\n",
    "fruits = [\"apple\", \"banana\", \"cherry\", \"orange\", \"kiwi\", \"melon\", \"mango\"]\n",
    "fruits.sort(reverse=True)\n",
    "print(fruits)"
   ]
  },
  {
   "cell_type": "code",
   "execution_count": 8,
   "metadata": {},
   "outputs": [],
   "source": [
    "import datetime as dt"
   ]
  },
  {
   "cell_type": "code",
   "execution_count": 9,
   "metadata": {},
   "outputs": [
    {
     "name": "stdout",
     "output_type": "stream",
     "text": [
      "2023-11-09 09:50:56.066816\n",
      "November\n",
      "Hello, Brandon! Today is Sunday.\n",
      "Error: Division by zero is not allowed.\n",
      "Execution completed.\n"
     ]
    }
   ],
   "source": [
    "# 15. Use the DateTime module to get Current Date and Time, and save it to a variable. Then extract just the Full month name form that variable.\n",
    "\n",
    "import datetime as dt\n",
    "a = dt.datetime.now()\n",
    "print(a)\n",
    "\n",
    "month = dt.datetime.now()\n",
    "print(month.strftime(\"%B\"))\n",
    "\n",
    "# 16. Write a simple function that takes 2 parameters -- a first name and a day name.\n",
    "    # Set a default value for the day name of Sunday.\n",
    "    # Have the function print out a greeting -- using the parameters -- that says something like \"Hi first-name! Happy day-name!\". \n",
    "    # Remember to use the variables in the greeting to replace first-name and day-name.\n",
    "    # Invoke this function with 2 variables.\n",
    "    # Invoke this function with 1 variable only.\n",
    "\n",
    "def greet(name, day=\"Sunday\"):\n",
    "    message = f\"Hello, {name}! Today is {day}.\"\n",
    "    print(message)\n",
    "first_name = \"Brandon\"\n",
    "day_name = \"Sunday\"\n",
    "greet(first_name, day_name)\n",
    "    \n",
    "# 17. Write a block of code to handle one of the most common Python exception errors. Select one of the common errors from the curriculum section on Python Exception handling. \n",
    "# Have your code example uses the try,except, else, and finally components.\n",
    "try:\n",
    "    result = 10 / 0\n",
    "except ZeroDivisionError:\n",
    "    print(\"Error: Division by zero is not allowed.\")\n",
    "else:\n",
    "    print(\"The division was successful. Result:\", result)\n",
    "finally:\n",
    "    print(\"Execution completed.\")\n"
   ]
  }
 ],
 "metadata": {
  "kernelspec": {
   "display_name": "Python 3",
   "language": "python",
   "name": "python3"
  },
  "language_info": {
   "codemirror_mode": {
    "name": "ipython",
    "version": 3
   },
   "file_extension": ".py",
   "mimetype": "text/x-python",
   "name": "python",
   "nbconvert_exporter": "python",
   "pygments_lexer": "ipython3",
   "version": "3.11.5"
  }
 },
 "nbformat": 4,
 "nbformat_minor": 2
}
