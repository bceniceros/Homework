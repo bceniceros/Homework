{
 "cells": [
  {
   "cell_type": "markdown",
   "metadata": {},
   "source": [
    "## Brandon Ceniceros Week 3 Homework\n",
    "\n"
   ]
  },
  {
   "cell_type": "markdown",
   "metadata": {},
   "source": [
    "##### What is an algorithm?\n",
    "\n",
    "- A set of rules you give the operating system to solve problems or create a process."
   ]
  },
  {
   "cell_type": "markdown",
   "metadata": {},
   "source": [
    "##### Variable names may not start with certain characters - name two\n",
    "\n",
    "- Variables cannot start with a dash (-) or a number (2Lists)"
   ]
  },
  {
   "cell_type": "markdown",
   "metadata": {},
   "source": [
    "##### What is a Semantic Error?\n",
    "\n",
    "- An error that will run successfully, but not return what you wanted."
   ]
  },
  {
   "cell_type": "markdown",
   "metadata": {},
   "source": [
    "##### What is the #1 rule of coding / debugging?\n",
    "\n",
    "- Complexity is the enemy of efficiency!"
   ]
  },
  {
   "cell_type": "markdown",
   "metadata": {},
   "source": [
    "##### List 5 Python reserved words.\n",
    "\n",
    "- None, elif, break, lambda, nonlocal"
   ]
  },
  {
   "cell_type": "code",
   "execution_count": 145,
   "metadata": {},
   "outputs": [
    {
     "name": "stdout",
     "output_type": "stream",
     "text": [
      "5\n",
      "n\n",
      "ing Data Analytics \n",
      "Learning Data Analytics and Python is great\n",
      "Brandon 29 71In\n",
      "Hi my name is {person}, I am {length}, and {age} old today\n",
      "29.0\n"
     ]
    }
   ],
   "source": [
    "# Write a multi-line comment with your name, favorite food, and dream job on 3 different lines\n",
    "Me = (\"\"\"BrandonCeniceros\", \"Steak\", \"MarineBiologist\"\"\")\n",
    "\n",
    "# Assign 5 different data types to 5 different variables. At least one datatype must be a string\n",
    "A = 10\n",
    "B = \"Skyline\"\n",
    "C = 17.38\n",
    "D = (\"Chocolate\", \"Strawberry\", \"Vanilla\")\n",
    "E = True\n",
    "\n",
    "List1 = [10, \"Skyline\", 17.38, (\"Chocolate\", \"Strawberry\", \"Vanilla\"), True]\n",
    "\n",
    "# Print the length of your string\n",
    "print(len(List1))\n",
    "\n",
    "# Print the index value of the 4th character in your string\n",
    "print(Me[3:4])\n",
    "\n",
    "# Create a new variable called savvy, and assign it the string with this phrase \"Learning Data Analytics and Python is Awesome!\"\n",
    "savvy = \"Learning Data Analytics and Python is Awesome\"\n",
    "\n",
    "# Return a range of characters that slices the above string from the beginning of \"ing\" up to before \"and\"\n",
    "print(savvy[5:24])\n",
    "\n",
    "# Replace \"Awesome\" with \"great\" in the string\n",
    "newhw2 = savvy.replace(\"Awesome\", \"great\")\n",
    "\n",
    "# Test and print the savvy string to see it contains \"Python\"\n",
    "print(newhw2)\n",
    "\n",
    "# Create and assign 3 more variables called name, age and length using the multi-variable naming method\n",
    "person, age, length = \"Brandon\", \"29\", \"71In\"\n",
    "print(person, age, length)\n",
    "\n",
    "# Format a new string called 'miniBio' using variables in curly brackets to complete this phrase... \"Hi my name is (name), I am (tall) and (so) old today.\"\n",
    "miniBio = (\"Hi my name is {person}, I am {length}, and {age} old today\")\n",
    "# Print \"miniBio\"\n",
    "print(miniBio)                                                              # Help\n",
    "\n",
    "# Cast and print the age variable to a float\n",
    "age_as_float = float(age)\n",
    "print(age_as_float)"
   ]
  },
  {
   "cell_type": "code",
   "execution_count": 150,
   "metadata": {},
   "outputs": [
    {
     "name": "stdout",
     "output_type": "stream",
     "text": [
      "[20, 'Skyline', 17.38, ('Chocolate', 'Strawberry', 'Vanilla'), True]\n",
      "Length of the List =  6\n",
      "Second List: ['Skyline', 17.38, ('Chocolate', 'Strawberry', 'Vanilla')]\n"
     ]
    },
    {
     "ename": "AttributeError",
     "evalue": "'tuple' object has no attribute 'copy'",
     "output_type": "error",
     "traceback": [
      "\u001b[1;31m---------------------------------------------------------------------------\u001b[0m",
      "\u001b[1;31mAttributeError\u001b[0m                            Traceback (most recent call last)",
      "\u001b[1;32mc:\\Users\\Brandon\\Code\\SavvyCoders\\Homework\\BrandonCeniceros_Week3Homework.ipynb Cell 8\u001b[0m line \u001b[0;36m2\n\u001b[0;32m     <a href='vscode-notebook-cell:/c%3A/Users/Brandon/Code/SavvyCoders/Homework/BrandonCeniceros_Week3Homework.ipynb#X11sZmlsZQ%3D%3D?line=23'>24</a>\u001b[0m simList \u001b[39m=\u001b[39m (\u001b[39m24\u001b[39m, \u001b[39m31\u001b[39m, \u001b[39m15\u001b[39m, \u001b[39m27\u001b[39m, \u001b[39m68\u001b[39m)\n\u001b[0;32m     <a href='vscode-notebook-cell:/c%3A/Users/Brandon/Code/SavvyCoders/Homework/BrandonCeniceros_Week3Homework.ipynb#X11sZmlsZQ%3D%3D?line=24'>25</a>\u001b[0m \u001b[39m# Sort \"simList\", and print the list\u001b[39;00m\n\u001b[0;32m     <a href='vscode-notebook-cell:/c%3A/Users/Brandon/Code/SavvyCoders/Homework/BrandonCeniceros_Week3Homework.ipynb#X11sZmlsZQ%3D%3D?line=25'>26</a>\u001b[0m \u001b[39m#simList.sort()\u001b[39;00m\n\u001b[0;32m     <a href='vscode-notebook-cell:/c%3A/Users/Brandon/Code/SavvyCoders/Homework/BrandonCeniceros_Week3Homework.ipynb#X11sZmlsZQ%3D%3D?line=26'>27</a>\u001b[0m \u001b[39m#print(\"Sorted simList: \", simList)                                                       # Help\u001b[39;00m\n\u001b[0;32m     <a href='vscode-notebook-cell:/c%3A/Users/Brandon/Code/SavvyCoders/Homework/BrandonCeniceros_Week3Homework.ipynb#X11sZmlsZQ%3D%3D?line=27'>28</a>\u001b[0m \u001b[39m# Copy the \"simList\" list to another 3rd list\u001b[39;00m\n\u001b[1;32m---> <a href='vscode-notebook-cell:/c%3A/Users/Brandon/Code/SavvyCoders/Homework/BrandonCeniceros_Week3Homework.ipynb#X11sZmlsZQ%3D%3D?line=28'>29</a>\u001b[0m my_list3 \u001b[39m=\u001b[39m simList\u001b[39m.\u001b[39;49mcopy\n\u001b[0;32m     <a href='vscode-notebook-cell:/c%3A/Users/Brandon/Code/SavvyCoders/Homework/BrandonCeniceros_Week3Homework.ipynb#X11sZmlsZQ%3D%3D?line=29'>30</a>\u001b[0m \u001b[39m# Add the 2nd and 3rd lists together into a 4th list\u001b[39;00m\n\u001b[0;32m     <a href='vscode-notebook-cell:/c%3A/Users/Brandon/Code/SavvyCoders/Homework/BrandonCeniceros_Week3Homework.ipynb#X11sZmlsZQ%3D%3D?line=30'>31</a>\u001b[0m my_list4 \u001b[39m=\u001b[39m my_list2 \u001b[39m+\u001b[39m my_list3\n",
      "\u001b[1;31mAttributeError\u001b[0m: 'tuple' object has no attribute 'copy'"
     ]
    }
   ],
   "source": [
    "# Create a list of at least 5 elements of mixed data types\n",
    "my_list = [10, \"Skyline\", 17.38, (\"Chocolate\", \"Strawberry\", \"Vanilla\"), True]\n",
    "\n",
    "# Replace a part of it with something else\n",
    "my_list[0] = 20\n",
    "print(my_list)\n",
    "\n",
    "# Append or insert several more items to the list\n",
    "my_list.append(\"Supra\")\n",
    "\n",
    "# Find and print the length of the list\n",
    "list_length = len(my_list)\n",
    "print(\"Length of the List = \", list_length)\n",
    "\n",
    "# Slice a sub-section of the 1st list, and save it to a different 2nd list\n",
    "my_list2 = my_list[1:4]\n",
    "\n",
    "# Print the 2nd list\n",
    "print(\"Second List:\", my_list2)\n",
    "\n",
    "# Extend your original list with the 2nd list sliced above\n",
    "my_list.extend(my_list2)\n",
    "# Create a new list called \"simList\" containing at least 5 elements of the same data type, either string, integer, float, or Boolean\n",
    "simList = (24, 31, 15, 27, 68)\n",
    "# Sort \"simList\", and print the list\n",
    "#simList.sort()\n",
    "#print(\"Sorted simList: \", simList)                                                       # Help\n",
    "# Copy the \"simList\" list to another 3rd list\n",
    "my_list3 = simList.copy\n",
    "# Add the 2nd and 3rd lists together into a 4th list\n",
    "my_list4 = my_list2 + my_list3\n",
    "print(my_list4)"
   ]
  },
  {
   "cell_type": "code",
   "execution_count": 126,
   "metadata": {},
   "outputs": [
    {
     "ename": "TypeError",
     "evalue": "'<' not supported between instances of 'str' and 'int'",
     "output_type": "error",
     "traceback": [
      "\u001b[1;31m---------------------------------------------------------------------------\u001b[0m",
      "\u001b[1;31mTypeError\u001b[0m                                 Traceback (most recent call last)",
      "\u001b[1;32mc:\\Users\\Brandon\\Code\\SavvyCoders\\Homework\\BrandonCeniceros_Week3Homework.ipynb Cell 9\u001b[0m line \u001b[0;36m8\n\u001b[0;32m      <a href='vscode-notebook-cell:/c%3A/Users/Brandon/Code/SavvyCoders/Homework/BrandonCeniceros_Week3Homework.ipynb#X12sZmlsZQ%3D%3D?line=3'>4</a>\u001b[0m second_tuple \u001b[39m=\u001b[39m first_tuple \u001b[39m*\u001b[39m \u001b[39m3\u001b[39m\n\u001b[0;32m      <a href='vscode-notebook-cell:/c%3A/Users/Brandon/Code/SavvyCoders/Homework/BrandonCeniceros_Week3Homework.ipynb#X12sZmlsZQ%3D%3D?line=4'>5</a>\u001b[0m \u001b[39m# Access and print the 12th element from the 2nd tuple\u001b[39;00m\n\u001b[0;32m      <a href='vscode-notebook-cell:/c%3A/Users/Brandon/Code/SavvyCoders/Homework/BrandonCeniceros_Week3Homework.ipynb#X12sZmlsZQ%3D%3D?line=5'>6</a>\u001b[0m \u001b[39m# Help\u001b[39;00m\n\u001b[0;32m      <a href='vscode-notebook-cell:/c%3A/Users/Brandon/Code/SavvyCoders/Homework/BrandonCeniceros_Week3Homework.ipynb#X12sZmlsZQ%3D%3D?line=6'>7</a>\u001b[0m \u001b[39m# Sort the 2nd tuple and print it\u001b[39;00m\n\u001b[1;32m----> <a href='vscode-notebook-cell:/c%3A/Users/Brandon/Code/SavvyCoders/Homework/BrandonCeniceros_Week3Homework.ipynb#X12sZmlsZQ%3D%3D?line=7'>8</a>\u001b[0m sorted_second_tuple \u001b[39m=\u001b[39m \u001b[39mtuple\u001b[39m(\u001b[39msorted\u001b[39;49m(second_tuple))\n\u001b[0;32m      <a href='vscode-notebook-cell:/c%3A/Users/Brandon/Code/SavvyCoders/Homework/BrandonCeniceros_Week3Homework.ipynb#X12sZmlsZQ%3D%3D?line=8'>9</a>\u001b[0m \u001b[39mprint\u001b[39m(sorted_second_tuple)\n\u001b[0;32m     <a href='vscode-notebook-cell:/c%3A/Users/Brandon/Code/SavvyCoders/Homework/BrandonCeniceros_Week3Homework.ipynb#X12sZmlsZQ%3D%3D?line=10'>11</a>\u001b[0m \u001b[39m# Copy 4 specific elements from your 2nd tuple to a new 3nd tuple\u001b[39;00m\n",
      "\u001b[1;31mTypeError\u001b[0m: '<' not supported between instances of 'str' and 'int'"
     ]
    }
   ],
   "source": [
    "# Create a tuple of about 5 elements\n",
    "first_tuple = (1, \"BruceWillis\", 17.38, (20, 420), \"Yoda\")\n",
    "# Multiply your tuple by 3 and save it to a new 2nd tuple\n",
    "second_tuple = first_tuple * 3\n",
    "# Access and print the 12th element from the 2nd tuple\n",
    "                                                                             # Help\n",
    "# Sort the 2nd tuple and print it\n",
    "sorted_second_tuple = tuple(sorted(second_tuple))                                           #Help\n",
    "print(sorted_second_tuple)\n",
    "\n",
    "# Copy 4 specific elements from your 2nd tuple to a new 3nd tuple\n",
    "third_tuple = second_tuple[1:5]\n",
    "\n",
    "# Unpack the 3rd tuple into 4 variables and print these variables\n",
    "Var1, Var2, Var3, Var4 = third_tuple\n",
    "print(Var1, Var2, Var3, Var4)\n",
    "\n",
    "# Create a 4th tuple with single item 50 and print this tuple\n",
    "fourth_tuple = (50,)\n",
    "print(fourth_tuple)\n",
    "\n",
    "# Add the 2nd and 3rd tuple together into a 5th tuple and print the tuple\n",
    "fifth_tuple = second_tuple + third_tuple\n",
    "print(fifth_tuple)\n"
   ]
  },
  {
   "cell_type": "code",
   "execution_count": 132,
   "metadata": {},
   "outputs": [
    {
     "name": "stdout",
     "output_type": "stream",
     "text": [
      "{1, 2, 3, 'Mango', 'Banana', 'Strawberry'}\n"
     ]
    },
    {
     "ename": "AttributeError",
     "evalue": "'tuple' object has no attribute 'pop'",
     "output_type": "error",
     "traceback": [
      "\u001b[1;31m---------------------------------------------------------------------------\u001b[0m",
      "\u001b[1;31mAttributeError\u001b[0m                            Traceback (most recent call last)",
      "\u001b[1;32mc:\\Users\\Brandon\\Code\\SavvyCoders\\Homework\\BrandonCeniceros_Week3Homework.ipynb Cell 10\u001b[0m line \u001b[0;36m1\n\u001b[0;32m     <a href='vscode-notebook-cell:/c%3A/Users/Brandon/Code/SavvyCoders/Homework/BrandonCeniceros_Week3Homework.ipynb#X13sZmlsZQ%3D%3D?line=14'>15</a>\u001b[0m Set3 \u001b[39m=\u001b[39m Set1\u001b[39m.\u001b[39munion(Set2)\n\u001b[0;32m     <a href='vscode-notebook-cell:/c%3A/Users/Brandon/Code/SavvyCoders/Homework/BrandonCeniceros_Week3Homework.ipynb#X13sZmlsZQ%3D%3D?line=15'>16</a>\u001b[0m \u001b[39m# Pop an element from the 2nd set, and print the remainder of the set\u001b[39;00m\n\u001b[1;32m---> <a href='vscode-notebook-cell:/c%3A/Users/Brandon/Code/SavvyCoders/Homework/BrandonCeniceros_Week3Homework.ipynb#X13sZmlsZQ%3D%3D?line=16'>17</a>\u001b[0m popped_element \u001b[39m=\u001b[39m Set2\u001b[39m.\u001b[39;49mpop()\n\u001b[0;32m     <a href='vscode-notebook-cell:/c%3A/Users/Brandon/Code/SavvyCoders/Homework/BrandonCeniceros_Week3Homework.ipynb#X13sZmlsZQ%3D%3D?line=17'>18</a>\u001b[0m \u001b[39mprint\u001b[39m(\u001b[39m\"\u001b[39m\u001b[39mPopped Element: \u001b[39m\u001b[39m\"\u001b[39m, popped_element)                                                           \u001b[39m#Help\u001b[39;00m\n\u001b[0;32m     <a href='vscode-notebook-cell:/c%3A/Users/Brandon/Code/SavvyCoders/Homework/BrandonCeniceros_Week3Homework.ipynb#X13sZmlsZQ%3D%3D?line=18'>19</a>\u001b[0m \u001b[39mprint\u001b[39m(\u001b[39m\"\u001b[39m\u001b[39mRemaining Elements in the Second Set\u001b[39m\u001b[39m\"\u001b[39m, Set2)\n",
      "\u001b[1;31mAttributeError\u001b[0m: 'tuple' object has no attribute 'pop'"
     ]
    }
   ],
   "source": [
    "# Create a set of about 3 elements\n",
    "Set1 = {1, 2, 3}\n",
    "\n",
    "# Add a list of fruits to the above set and print the result\n",
    "fruits = (\"Strawberry\", \"Mango\", \"Banana\")\n",
    "Set1.update(fruits)\n",
    "print(Set1)\n",
    "\n",
    "# Add a car element to your set\n",
    "Set1.add(\"car\")\n",
    "\n",
    "# Create a 2nd set with a few odd items\n",
    "Set2 = \"Yoda\", \"Anakin\", \"ObiWan\"\n",
    "# Save the union of 1st set and 2nd set to a 3rd set\n",
    "Set3 = Set1.union(Set2)\n",
    "# Pop an element from the 2nd set, and print the remainder of the set\n",
    "popped_element = Set2.pop()\n",
    "print(\"Popped Element: \", popped_element)                                                           #Help\n",
    "print(\"Remaining Elements in the Second Set\", Set2)\n",
    "# Clear the 1st set and print the result\n",
    "Set1.clear\n",
    "print(\"First Set after CLearing\", Set1)\n",
    "# Discard an element, and remove another element from the 3rd set\n",
    "Set3.discard(2)\n",
    "Set3.remove(\"car\")\n",
    "# Print the remainder of the 3rd set\n",
    "print(\"Remainng Elements in the third set\", Set3)"
   ]
  },
  {
   "cell_type": "code",
   "execution_count": 141,
   "metadata": {},
   "outputs": [
    {
     "name": "stdout",
     "output_type": "stream",
     "text": [
      "I am 'name' :  Brandon\n",
      "Dictionary Keys: ['name', 'Age', 'BornIn', 'is_sith', 'Grades', 'favorite_color', 'hobbies']\n",
      "Dictionary Values: ['Your Name', 29, 'UplandCA', True, [98, 95, 99], 'Red', ['Drifting', 'EFT', 'Golf']]\n",
      "Popped Item: 29\n",
      "2nd Dictionary: {'name': 'Your Name', 'BornIn': 'UplandCA', 'is_sith': True, 'Grades': [98, 95, 99], 'favorite_color': 'Red', 'hobbies': ['Drifting', 'EFT', 'Golf']}\n",
      "2nd Dictionary after Clearing: {}\n"
     ]
    }
   ],
   "source": [
    "# Create a dictionary with at least 5 values of different data types\n",
    "my_dict = {\n",
    "    \"name\": \"Brandon\",\n",
    "    \"Age\": 29,\n",
    "    \"BornIn\": \"UplandCA\",\n",
    "    \"is_sith\": True,\n",
    "    \"Grades\": [98, 95, 99]\n",
    "}\n",
    "# Print out 1 value\n",
    "print(\"I am 'name' : \", my_dict[\"name\"])\n",
    "# Replace any one value in your dictionary with your name\n",
    "my_dict[\"name\"] = \"Your Name\"\n",
    "\n",
    "# Add your favorite color to the dictionary\n",
    "my_dict[\"favorite_color\"] = \"Red\"\n",
    "\n",
    "# Add a list, tuple or set to your dictionary\n",
    "my_dict[\"hobbies\"] = [\"Drifting\", \"EFT\", \"Golf\"]\n",
    "\n",
    "# Print a list of the dictionary keys\n",
    "keys = list(my_dict.keys())\n",
    "print(\"Dictionary Keys:\", keys)\n",
    "\n",
    "# Print a list of the dictionary values\n",
    "values = list(my_dict.values())\n",
    "print(\"Dictionary Values:\", values)\n",
    "\n",
    "# Copy your 1st dictionary into a 2nd dictionary\n",
    "my_dict2 = my_dict.copy()\n",
    "\n",
    "# Pop an item from the 2nd dictionary, and print the dictionary\n",
    "popped_item = my_dict2.pop(\"Age\")\n",
    "print(\"Popped Item:\", popped_item)                                                         # Help\n",
    "print(\"2nd Dictionary:\", my_dict2)\n",
    "\n",
    "# Remove all the elements from the 2nd dictionary and print the result\n",
    "my_dict2.clear()\n",
    "print(\"2nd Dictionary after Clearing:\", my_dict2)\n"
   ]
  }
 ],
 "metadata": {
  "kernelspec": {
   "display_name": "Python 3",
   "language": "python",
   "name": "python3"
  },
  "language_info": {
   "codemirror_mode": {
    "name": "ipython",
    "version": 3
   },
   "file_extension": ".py",
   "mimetype": "text/x-python",
   "name": "python",
   "nbconvert_exporter": "python",
   "pygments_lexer": "ipython3",
   "version": "3.11.5"
  }
 },
 "nbformat": 4,
 "nbformat_minor": 2
}
